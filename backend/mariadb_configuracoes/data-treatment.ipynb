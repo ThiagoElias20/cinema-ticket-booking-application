{
 "cells": [
  {
   "cell_type": "code",
   "execution_count": 1,
   "id": "4aa5dc6a-39b1-42b6-b265-9d1af549804f",
   "metadata": {},
   "outputs": [],
   "source": [
    "import pandas as pd\n",
    "import numpy as np"
   ]
  },
  {
   "cell_type": "code",
   "execution_count": 2,
   "id": "181aff1b-7fcd-4398-99ee-5fe112aa251a",
   "metadata": {},
   "outputs": [],
   "source": [
    "url = r'sessoes_202407161652.csv'\n",
    "df = pd.read_csv(url)"
   ]
  },
  {
   "cell_type": "code",
   "execution_count": 3,
   "id": "5c23aa27-e2fd-4992-8b1c-4ba931519aa6",
   "metadata": {},
   "outputs": [
    {
     "data": {
      "text/html": [
       "<div>\n",
       "<style scoped>\n",
       "    .dataframe tbody tr th:only-of-type {\n",
       "        vertical-align: middle;\n",
       "    }\n",
       "\n",
       "    .dataframe tbody tr th {\n",
       "        vertical-align: top;\n",
       "    }\n",
       "\n",
       "    .dataframe thead th {\n",
       "        text-align: right;\n",
       "    }\n",
       "</style>\n",
       "<table border=\"1\" class=\"dataframe\">\n",
       "  <thead>\n",
       "    <tr style=\"text-align: right;\">\n",
       "      <th></th>\n",
       "      <th>id_sessao</th>\n",
       "      <th>filme_id</th>\n",
       "      <th>sala_id</th>\n",
       "      <th>cinema_id</th>\n",
       "      <th>tipo_audio</th>\n",
       "      <th>formato_exibicao</th>\n",
       "      <th>dia</th>\n",
       "      <th>horario</th>\n",
       "      <th>data_criacao</th>\n",
       "    </tr>\n",
       "  </thead>\n",
       "  <tbody>\n",
       "    <tr>\n",
       "      <th>0</th>\n",
       "      <td>1</td>\n",
       "      <td>1</td>\n",
       "      <td>2</td>\n",
       "      <td>1</td>\n",
       "      <td>Dublado</td>\n",
       "      <td>2D</td>\n",
       "      <td>14/07/2024</td>\n",
       "      <td>15</td>\n",
       "      <td>2024-07-14 14:39:38.000</td>\n",
       "    </tr>\n",
       "    <tr>\n",
       "      <th>1</th>\n",
       "      <td>2</td>\n",
       "      <td>1</td>\n",
       "      <td>7</td>\n",
       "      <td>1</td>\n",
       "      <td>Legendado</td>\n",
       "      <td>2D</td>\n",
       "      <td>14/07/2024</td>\n",
       "      <td>21</td>\n",
       "      <td>2024-07-14 14:39:38.000</td>\n",
       "    </tr>\n",
       "    <tr>\n",
       "      <th>2</th>\n",
       "      <td>3</td>\n",
       "      <td>1</td>\n",
       "      <td>8</td>\n",
       "      <td>1</td>\n",
       "      <td>Dublado</td>\n",
       "      <td>2D</td>\n",
       "      <td>14/07/2024</td>\n",
       "      <td>12</td>\n",
       "      <td>2024-07-14 14:39:38.000</td>\n",
       "    </tr>\n",
       "    <tr>\n",
       "      <th>3</th>\n",
       "      <td>4</td>\n",
       "      <td>1</td>\n",
       "      <td>10</td>\n",
       "      <td>1</td>\n",
       "      <td>Dublado</td>\n",
       "      <td>3D</td>\n",
       "      <td>14/07/2024</td>\n",
       "      <td>14</td>\n",
       "      <td>2024-07-14 14:39:38.000</td>\n",
       "    </tr>\n",
       "    <tr>\n",
       "      <th>4</th>\n",
       "      <td>5</td>\n",
       "      <td>1</td>\n",
       "      <td>6</td>\n",
       "      <td>1</td>\n",
       "      <td>Dublado</td>\n",
       "      <td>2D</td>\n",
       "      <td>14/07/2024</td>\n",
       "      <td>16</td>\n",
       "      <td>2024-07-14 14:39:38.000</td>\n",
       "    </tr>\n",
       "    <tr>\n",
       "      <th>...</th>\n",
       "      <td>...</td>\n",
       "      <td>...</td>\n",
       "      <td>...</td>\n",
       "      <td>...</td>\n",
       "      <td>...</td>\n",
       "      <td>...</td>\n",
       "      <td>...</td>\n",
       "      <td>...</td>\n",
       "      <td>...</td>\n",
       "    </tr>\n",
       "    <tr>\n",
       "      <th>4826</th>\n",
       "      <td>4827</td>\n",
       "      <td>13</td>\n",
       "      <td>2</td>\n",
       "      <td>8</td>\n",
       "      <td>Dublado</td>\n",
       "      <td>3D</td>\n",
       "      <td>21/07/2024</td>\n",
       "      <td>20</td>\n",
       "      <td>2024-07-14 14:45:39.000</td>\n",
       "    </tr>\n",
       "    <tr>\n",
       "      <th>4827</th>\n",
       "      <td>4828</td>\n",
       "      <td>13</td>\n",
       "      <td>8</td>\n",
       "      <td>8</td>\n",
       "      <td>Legendado</td>\n",
       "      <td>3D</td>\n",
       "      <td>21/07/2024</td>\n",
       "      <td>19</td>\n",
       "      <td>2024-07-14 14:45:39.000</td>\n",
       "    </tr>\n",
       "    <tr>\n",
       "      <th>4828</th>\n",
       "      <td>4829</td>\n",
       "      <td>13</td>\n",
       "      <td>9</td>\n",
       "      <td>8</td>\n",
       "      <td>Legendado</td>\n",
       "      <td>2D</td>\n",
       "      <td>21/07/2024</td>\n",
       "      <td>17</td>\n",
       "      <td>2024-07-14 14:45:39.000</td>\n",
       "    </tr>\n",
       "    <tr>\n",
       "      <th>4829</th>\n",
       "      <td>4830</td>\n",
       "      <td>13</td>\n",
       "      <td>8</td>\n",
       "      <td>8</td>\n",
       "      <td>Legendado</td>\n",
       "      <td>3D</td>\n",
       "      <td>21/07/2024</td>\n",
       "      <td>21</td>\n",
       "      <td>2024-07-14 14:45:39.000</td>\n",
       "    </tr>\n",
       "    <tr>\n",
       "      <th>4830</th>\n",
       "      <td>4831</td>\n",
       "      <td>15</td>\n",
       "      <td>9</td>\n",
       "      <td>8</td>\n",
       "      <td>Dublado</td>\n",
       "      <td>2D</td>\n",
       "      <td>21/07/2024</td>\n",
       "      <td>17</td>\n",
       "      <td>2024-07-14 14:45:39.000</td>\n",
       "    </tr>\n",
       "  </tbody>\n",
       "</table>\n",
       "<p>4831 rows × 9 columns</p>\n",
       "</div>"
      ],
      "text/plain": [
       "      id_sessao  filme_id  sala_id  cinema_id tipo_audio formato_exibicao  \\\n",
       "0             1         1        2          1    Dublado               2D   \n",
       "1             2         1        7          1  Legendado               2D   \n",
       "2             3         1        8          1    Dublado               2D   \n",
       "3             4         1       10          1    Dublado               3D   \n",
       "4             5         1        6          1    Dublado               2D   \n",
       "...         ...       ...      ...        ...        ...              ...   \n",
       "4826       4827        13        2          8    Dublado               3D   \n",
       "4827       4828        13        8          8  Legendado               3D   \n",
       "4828       4829        13        9          8  Legendado               2D   \n",
       "4829       4830        13        8          8  Legendado               3D   \n",
       "4830       4831        15        9          8    Dublado               2D   \n",
       "\n",
       "             dia  horario             data_criacao  \n",
       "0     14/07/2024       15  2024-07-14 14:39:38.000  \n",
       "1     14/07/2024       21  2024-07-14 14:39:38.000  \n",
       "2     14/07/2024       12  2024-07-14 14:39:38.000  \n",
       "3     14/07/2024       14  2024-07-14 14:39:38.000  \n",
       "4     14/07/2024       16  2024-07-14 14:39:38.000  \n",
       "...          ...      ...                      ...  \n",
       "4826  21/07/2024       20  2024-07-14 14:45:39.000  \n",
       "4827  21/07/2024       19  2024-07-14 14:45:39.000  \n",
       "4828  21/07/2024       17  2024-07-14 14:45:39.000  \n",
       "4829  21/07/2024       21  2024-07-14 14:45:39.000  \n",
       "4830  21/07/2024       17  2024-07-14 14:45:39.000  \n",
       "\n",
       "[4831 rows x 9 columns]"
      ]
     },
     "execution_count": 3,
     "metadata": {},
     "output_type": "execute_result"
    }
   ],
   "source": [
    "df"
   ]
  },
  {
   "cell_type": "code",
   "execution_count": 4,
   "id": "67da38c1-e405-4129-8f27-d1beaa379aa7",
   "metadata": {},
   "outputs": [],
   "source": [
    "df_para_tratamento = df.copy(deep=True)"
   ]
  },
  {
   "cell_type": "code",
   "execution_count": 5,
   "id": "5b4fe9ec-1edc-4340-8c3b-b827c1ab58c0",
   "metadata": {},
   "outputs": [],
   "source": [
    "dias = [14,15,16,17,18,19,20,21]\n",
    "cinemas = [1,2,3,4,5,6,7,8]\n",
    "dia_cinema_arr = []\n",
    "arr_persistentes = []\n",
    "colunas_para_apagar = [\"id_sessao\",\"filme_id\",\"cinema_id\",\"tipo_audio\",\"formato_exibicao\",\"dia\",\"data_criacao\"] "
   ]
  },
  {
   "cell_type": "code",
   "execution_count": 6,
   "id": "32644c7f-ed42-45b6-96ce-6adce9e9acd9",
   "metadata": {},
   "outputs": [],
   "source": [
    "for dia in dias:\n",
    "    for cinema in cinemas:\n",
    "        dia_cinema_arr.append(df_para_tratamento.query(f'dia == \"{dia}/07/2024\" & cinema_id == {cinema}'))"
   ]
  },
  {
   "cell_type": "code",
   "execution_count": 7,
   "id": "13571f84-576a-41de-8909-2998927f5317",
   "metadata": {},
   "outputs": [
    {
     "data": {
      "text/plain": [
       "64"
      ]
     },
     "execution_count": 7,
     "metadata": {},
     "output_type": "execute_result"
    }
   ],
   "source": [
    "len(dia_cinema_arr)"
   ]
  },
  {
   "cell_type": "code",
   "execution_count": 8,
   "id": "20eb10ba-1416-4d3a-bf36-f9b4fbf6845d",
   "metadata": {},
   "outputs": [],
   "source": [
    "for i in range(len(dia_cinema_arr)):\n",
    "    \n",
    "    teste = dia_cinema_arr[i].copy(deep=True)\n",
    "    \n",
    "    teste.drop(\"id_sessao\", axis=1, inplace=True)\n",
    "    teste.drop(\"filme_id\", axis=1, inplace=True)\n",
    "    teste.drop(\"cinema_id\", axis=1, inplace=True)\n",
    "    teste.drop(\"tipo_audio\", axis=1, inplace=True)\n",
    "    teste.drop(\"formato_exibicao\", axis=1, inplace=True)\n",
    "    teste.drop(\"dia\", axis=1, inplace=True)\n",
    "    teste.drop(\"data_criacao\", axis=1, inplace=True)\n",
    "    \n",
    "    teste.drop_duplicates(inplace=True)\n",
    "    \n",
    "    for j in teste.index:\n",
    "        arr_persistentes.append(j)"
   ]
  },
  {
   "cell_type": "code",
   "execution_count": 10,
   "id": "eabe8f54-7aca-478d-85ee-6aff9182ea78",
   "metadata": {},
   "outputs": [
    {
     "data": {
      "text/plain": [
       "3578"
      ]
     },
     "execution_count": 10,
     "metadata": {},
     "output_type": "execute_result"
    }
   ],
   "source": [
    "len(arr_persistentes)"
   ]
  },
  {
   "cell_type": "code",
   "execution_count": 14,
   "id": "99434b5a-1932-494a-aa3e-c1d571a368f7",
   "metadata": {},
   "outputs": [],
   "source": [
    "df_replace = df.query(\"id_sessao - 1 in @arr_persistentes\").copy(deep=True)"
   ]
  },
  {
   "cell_type": "code",
   "execution_count": 24,
   "id": "5a31e89c-48a9-4752-ab70-9b421f2cce90",
   "metadata": {},
   "outputs": [],
   "source": [
    "df_replace.reset_index(inplace=True)"
   ]
  },
  {
   "cell_type": "code",
   "execution_count": 26,
   "id": "f21f8bdb-0160-4535-af84-e2128c808da3",
   "metadata": {},
   "outputs": [],
   "source": [
    "df_replace.drop('level_0', axis = 1, inplace=True)"
   ]
  },
  {
   "cell_type": "code",
   "execution_count": 28,
   "id": "6c5e7230-7864-42ef-817f-b96fc7d603a6",
   "metadata": {},
   "outputs": [],
   "source": [
    "df_replace.drop('index', axis = 1, inplace=True)"
   ]
  },
  {
   "cell_type": "code",
   "execution_count": 32,
   "id": "210ce359-ed55-455a-b604-d8898e3ebab1",
   "metadata": {},
   "outputs": [],
   "source": [
    "df_replace[\"id\"] = df_replace.index"
   ]
  },
  {
   "cell_type": "code",
   "execution_count": 34,
   "id": "19b0a5ef-4838-435f-8122-5e5c08fe4fd6",
   "metadata": {},
   "outputs": [],
   "source": [
    "df_replace.drop('id_sessao', axis = 1, inplace=True)"
   ]
  },
  {
   "cell_type": "code",
   "execution_count": 39,
   "id": "a6e0fd4d-730a-4d2c-b9ef-1208f29b7621",
   "metadata": {},
   "outputs": [],
   "source": [
    "df_replace.drop(140714204530000, axis = 1, inplace=True)"
   ]
  },
  {
   "cell_type": "code",
   "execution_count": 42,
   "id": "8fea687f-702f-41d9-82a1-bf84794dc30b",
   "metadata": {},
   "outputs": [],
   "source": [
    "df_replace.to_csv('sessoes_tratado.csv', sep=',', index=False)"
   ]
  }
 ],
 "metadata": {
  "kernelspec": {
   "display_name": "Python 3 (ipykernel)",
   "language": "python",
   "name": "python3"
  },
  "language_info": {
   "codemirror_mode": {
    "name": "ipython",
    "version": 3
   },
   "file_extension": ".py",
   "mimetype": "text/x-python",
   "name": "python",
   "nbconvert_exporter": "python",
   "pygments_lexer": "ipython3",
   "version": "3.11.7"
  }
 },
 "nbformat": 4,
 "nbformat_minor": 5
}
